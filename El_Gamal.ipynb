{
  "cells": [
    {
      "cell_type": "markdown",
      "metadata": {},
      "source": [
        "# El Gamal Encryption System"
      ]
    },
    {
      "cell_type": "markdown",
      "metadata": {},
      "source": [
        "## Installation & Imports"
      ]
    },
    {
      "cell_type": "code",
      "execution_count": null,
      "metadata": {
        "id": "65pzbEkPTD-I"
      },
      "outputs": [],
      "source": [
        "%pip install gensafeprime"
      ]
    },
    {
      "cell_type": "code",
      "execution_count": null,
      "metadata": {
        "id": "oaJeEqJ3TJKA"
      },
      "outputs": [],
      "source": [
        "from gensafeprime import generate\n",
        "import random"
      ]
    },
    {
      "cell_type": "markdown",
      "metadata": {},
      "source": [
        "## Gen function - generates both public and secret key"
      ]
    },
    {
      "cell_type": "markdown",
      "metadata": {},
      "source": [
        "Check if an element g is the generator of the group: Zp*"
      ]
    },
    {
      "cell_type": "code",
      "execution_count": null,
      "metadata": {
        "id": "6zeMgeiLiEM5"
      },
      "outputs": [],
      "source": [
        "def is_generator(g, p):\n",
        "\n",
        "  subgroup = set()\n",
        "  for i in range(1, p):\n",
        "    element = pow(g, i, p)\n",
        "    if element in subgroup:\n",
        "      return False\n",
        "    subgroup.add(element)\n",
        "\n",
        "  return len(subgroup) == p - 1"
      ]
    },
    {
      "cell_type": "code",
      "execution_count": null,
      "metadata": {
        "id": "70t4cyZ3VY5a"
      },
      "outputs": [],
      "source": [
        "# Function to generate a key pair (public key, private key)\n",
        "def key_generation(p):\n",
        "\n",
        "    q = (p-1)//2\n",
        "\n",
        "    # Select a generator g of a subgroup of Zp*\n",
        "    g = 1\n",
        "    while(not is_generator(g, p)):\n",
        "      g = random.randint(2, p - 1)\n",
        "      break\n",
        "    print(\"g: \", g)\n",
        "\n",
        "    # Choose a secret key a uniformly at random from {1, ..., q}\n",
        "    a = random.randint(1, q)\n",
        "\n",
        "    # Compute the public key h = g^a mod p\n",
        "    h = pow(g, a, p)\n",
        "    public_key = (p, g, h)\n",
        "    private_key = (p, a)\n",
        "\n",
        "    print(\"prive key: \", a)\n",
        "    print(\"public key: \", h)\n",
        "\n",
        "    return (public_key, private_key)"
      ]
    },
    {
      "cell_type": "markdown",
      "metadata": {},
      "source": [
        "## Enc function - using public key"
      ]
    },
    {
      "cell_type": "code",
      "execution_count": null,
      "metadata": {
        "id": "rVxRfGuYY3MR"
      },
      "outputs": [],
      "source": [
        "# Function to encrypt a message m using the public key (p, g, h)\n",
        "def encrypt(message, public_key):\n",
        "    p, g, h = public_key\n",
        "    q = (p-1)//2\n",
        "\n",
        "    # Choose a random ephemeral key r uniformly at random from {1, ..., q}\n",
        "    r = random.randint(1, q)\n",
        "\n",
        "    # Compute s = g^r mod p\n",
        "    s = pow(g, r, p)\n",
        "\n",
        "    # Compute t = (h^r * m) mod p\n",
        "    t = (pow(h, r, p) * message) % p\n",
        "\n",
        "    ciphertext = (s, t)\n",
        "    print(f\"ciphertext: s= {s}, t= {t}\")\n",
        "\n",
        "    return ciphertext"
      ]
    },
    {
      "cell_type": "markdown",
      "metadata": {},
      "source": [
        "## Dec function - using private key"
      ]
    },
    {
      "cell_type": "code",
      "execution_count": null,
      "metadata": {
        "id": "Z-n4j9-TZgV5"
      },
      "outputs": [],
      "source": [
        "# Function to decrypt a ciphertext (c1, c2) using the private key a\n",
        "def decrypt(ciphertext, private_key):\n",
        "    s, t = ciphertext\n",
        "    p, a = private_key\n",
        "\n",
        "    # Compute the shared secret sa = s^a mod p\n",
        "    sa = pow(s, a, p)\n",
        "\n",
        "    # Compute the plaintext m = (t * sa^(-1)) mod p\n",
        "    sa_inverse = pow(sa, -1, p) # modular inverse of s\n",
        "    message = (t * sa_inverse) % p\n",
        "\n",
        "    return message"
      ]
    },
    {
      "cell_type": "markdown",
      "metadata": {},
      "source": [
        "## Usage example:"
      ]
    },
    {
      "cell_type": "code",
      "execution_count": null,
      "metadata": {
        "colab": {
          "base_uri": "https://localhost:8080/",
          "height": 391
        },
        "id": "bjhC-i4ieeEW",
        "outputId": "5d856dbf-3fdd-424f-8ebb-bd4f4c1ab4f8"
      },
      "outputs": [
        {
          "name": "stdout",
          "output_type": "stream",
          "text": [
            "Checking ghenerator:  1\n",
            "Checking ghenerator:  542238198220485808607327197262\n"
          ]
        },
        {
          "ename": "KeyboardInterrupt",
          "evalue": "",
          "output_type": "error",
          "traceback": [
            "\u001b[0;31m---------------------------------------------------------------------------\u001b[0m",
            "\u001b[0;31mKeyboardInterrupt\u001b[0m                         Traceback (most recent call last)",
            "\u001b[0;32m<ipython-input-65-a2a32552fc19>\u001b[0m in \u001b[0;36m<cell line: 5>\u001b[0;34m()\u001b[0m\n\u001b[1;32m      3\u001b[0m \u001b[0mp\u001b[0m \u001b[0;34m=\u001b[0m \u001b[0mgenerate\u001b[0m\u001b[0;34m(\u001b[0m\u001b[0;36m100\u001b[0m\u001b[0;34m)\u001b[0m  \u001b[0;31m# Example prime modulus\u001b[0m\u001b[0;34m\u001b[0m\u001b[0;34m\u001b[0m\u001b[0m\n\u001b[1;32m      4\u001b[0m \u001b[0;31m# p = 23\u001b[0m\u001b[0;34m\u001b[0m\u001b[0;34m\u001b[0m\u001b[0m\n\u001b[0;32m----> 5\u001b[0;31m \u001b[0mpublic_key\u001b[0m\u001b[0;34m,\u001b[0m \u001b[0mprivate_key\u001b[0m \u001b[0;34m=\u001b[0m \u001b[0mkey_generation\u001b[0m\u001b[0;34m(\u001b[0m\u001b[0mp\u001b[0m\u001b[0;34m)\u001b[0m\u001b[0;34m\u001b[0m\u001b[0;34m\u001b[0m\u001b[0m\n\u001b[0m\u001b[1;32m      6\u001b[0m \u001b[0;34m\u001b[0m\u001b[0m\n\u001b[1;32m      7\u001b[0m \u001b[0;31m# Encrypt a message\u001b[0m\u001b[0;34m\u001b[0m\u001b[0;34m\u001b[0m\u001b[0m\n",
            "\u001b[0;32m<ipython-input-62-c09fe7d08e20>\u001b[0m in \u001b[0;36mkey_generation\u001b[0;34m(p)\u001b[0m\n\u001b[1;32m      6\u001b[0m     \u001b[0;31m# Select a generator g of a subgroup of Zp*\u001b[0m\u001b[0;34m\u001b[0m\u001b[0;34m\u001b[0m\u001b[0m\n\u001b[1;32m      7\u001b[0m     \u001b[0mg\u001b[0m \u001b[0;34m=\u001b[0m \u001b[0;36m1\u001b[0m\u001b[0;34m\u001b[0m\u001b[0;34m\u001b[0m\u001b[0m\n\u001b[0;32m----> 8\u001b[0;31m     \u001b[0;32mwhile\u001b[0m\u001b[0;34m(\u001b[0m\u001b[0;32mnot\u001b[0m \u001b[0mis_generator\u001b[0m\u001b[0;34m(\u001b[0m\u001b[0mg\u001b[0m\u001b[0;34m,\u001b[0m \u001b[0mp\u001b[0m\u001b[0;34m)\u001b[0m\u001b[0;34m)\u001b[0m\u001b[0;34m:\u001b[0m\u001b[0;34m\u001b[0m\u001b[0;34m\u001b[0m\u001b[0m\n\u001b[0m\u001b[1;32m      9\u001b[0m       \u001b[0mg\u001b[0m \u001b[0;34m=\u001b[0m \u001b[0mrandom\u001b[0m\u001b[0;34m.\u001b[0m\u001b[0mrandint\u001b[0m\u001b[0;34m(\u001b[0m\u001b[0;36m2\u001b[0m\u001b[0;34m,\u001b[0m \u001b[0mp\u001b[0m \u001b[0;34m-\u001b[0m \u001b[0;36m1\u001b[0m\u001b[0;34m)\u001b[0m\u001b[0;34m\u001b[0m\u001b[0;34m\u001b[0m\u001b[0m\n\u001b[1;32m     10\u001b[0m     \u001b[0mprint\u001b[0m\u001b[0;34m(\u001b[0m\u001b[0;34m\"The generator is: \"\u001b[0m\u001b[0;34m,\u001b[0m \u001b[0mg\u001b[0m\u001b[0;34m)\u001b[0m\u001b[0;34m\u001b[0m\u001b[0;34m\u001b[0m\u001b[0m\n",
            "\u001b[0;32m<ipython-input-61-0854c8e41966>\u001b[0m in \u001b[0;36mis_generator\u001b[0;34m(g, p)\u001b[0m\n\u001b[1;32m      4\u001b[0m   \u001b[0;32mfor\u001b[0m \u001b[0mi\u001b[0m \u001b[0;32min\u001b[0m \u001b[0mrange\u001b[0m\u001b[0;34m(\u001b[0m\u001b[0;36m1\u001b[0m\u001b[0;34m,\u001b[0m \u001b[0mp\u001b[0m\u001b[0;34m)\u001b[0m\u001b[0;34m:\u001b[0m\u001b[0;34m\u001b[0m\u001b[0;34m\u001b[0m\u001b[0m\n\u001b[1;32m      5\u001b[0m     \u001b[0melement\u001b[0m \u001b[0;34m=\u001b[0m \u001b[0mpow\u001b[0m\u001b[0;34m(\u001b[0m\u001b[0mg\u001b[0m\u001b[0;34m,\u001b[0m \u001b[0mi\u001b[0m\u001b[0;34m,\u001b[0m \u001b[0mp\u001b[0m\u001b[0;34m)\u001b[0m\u001b[0;34m\u001b[0m\u001b[0;34m\u001b[0m\u001b[0m\n\u001b[0;32m----> 6\u001b[0;31m     \u001b[0;32mif\u001b[0m \u001b[0melement\u001b[0m \u001b[0;32min\u001b[0m \u001b[0msubgroup\u001b[0m\u001b[0;34m:\u001b[0m\u001b[0;34m\u001b[0m\u001b[0;34m\u001b[0m\u001b[0m\n\u001b[0m\u001b[1;32m      7\u001b[0m       \u001b[0;32mreturn\u001b[0m \u001b[0;32mFalse\u001b[0m\u001b[0;34m\u001b[0m\u001b[0;34m\u001b[0m\u001b[0m\n\u001b[1;32m      8\u001b[0m     \u001b[0msubgroup\u001b[0m\u001b[0;34m.\u001b[0m\u001b[0madd\u001b[0m\u001b[0;34m(\u001b[0m\u001b[0melement\u001b[0m\u001b[0;34m)\u001b[0m\u001b[0;34m\u001b[0m\u001b[0;34m\u001b[0m\u001b[0m\n",
            "\u001b[0;31mKeyboardInterrupt\u001b[0m: "
          ]
        }
      ],
      "source": [
        "# Generate keys\n",
        "p = generate(100)\n",
        "print(\"p: \", p)\n",
        "print(\"q: \", (p-1)//2)\n",
        "\n",
        "public_key, private_key = key_generation(p)\n",
        "\n",
        "print()\n",
        "\n",
        "# Encrypt messages\n",
        "for i in range (1,7):\n",
        "  print(f\"Message {i}:\")\n",
        "\n",
        "  message = random.randint(1, p)\n",
        "  print(f\"Original message: {message}\")\n",
        "\n",
        "  ciphertext = encrypt(message, public_key)\n",
        "\n",
        "  # Decrypt the ciphertext\n",
        "  decrypted_message = decrypt(ciphertext, private_key)\n",
        "  print(f\"Decrypted Message: {decrypted_message}\")\n",
        "\n",
        "  print()"
      ]
    }
  ],
  "metadata": {
    "colab": {
      "provenance": []
    },
    "kernelspec": {
      "display_name": "Python 3",
      "name": "python3"
    },
    "language_info": {
      "name": "python"
    }
  },
  "nbformat": 4,
  "nbformat_minor": 0
}
