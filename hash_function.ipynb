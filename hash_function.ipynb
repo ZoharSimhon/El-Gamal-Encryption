{
  "nbformat": 4,
  "nbformat_minor": 0,
  "metadata": {
    "colab": {
      "provenance": []
    },
    "kernelspec": {
      "name": "python3",
      "display_name": "Python 3"
    },
    "language_info": {
      "name": "python"
    }
  },
  "cells": [
    {
      "cell_type": "markdown",
      "source": [
        "# Cryptographic hash function"
      ],
      "metadata": {
        "id": "JaMhPvHqDEnH"
      }
    },
    {
      "cell_type": "markdown",
      "source": [
        "## Imports"
      ],
      "metadata": {
        "id": "B8t-I3G1DXCW"
      }
    },
    {
      "cell_type": "code",
      "source": [
        "import random"
      ],
      "metadata": {
        "id": "D59xtqLH8qnK"
      },
      "execution_count": 30,
      "outputs": []
    },
    {
      "cell_type": "markdown",
      "source": [
        "## Find a generator for the group Zp"
      ],
      "metadata": {
        "id": "YCCioYUiDac8"
      }
    },
    {
      "cell_type": "code",
      "execution_count": 31,
      "metadata": {
        "id": "Hhwsm0qO75pz"
      },
      "outputs": [],
      "source": [
        "def is_generator(g, p):\n",
        "  subgroup = set()\n",
        "  for i in range(1, p):\n",
        "    element = pow(g, i, p)\n",
        "    if element in subgroup:\n",
        "      return False\n",
        "    subgroup.add(element)\n",
        "\n",
        "  return len(subgroup) == p - 1"
      ]
    },
    {
      "cell_type": "code",
      "source": [
        "def find_generator(p):\n",
        "  # Select a generator g of Zp*\n",
        "  g = 1\n",
        "  while(not is_generator(g, p)):\n",
        "    g = random.randint(2, p - 1)\n",
        "    if g == 31:\n",
        "      continue\n",
        "\n",
        "  return g"
      ],
      "metadata": {
        "id": "xoYRe52f8YHn"
      },
      "execution_count": 32,
      "outputs": []
    },
    {
      "cell_type": "markdown",
      "source": [
        "## Calculate the hash function: H(a,b) = g^a * h^b"
      ],
      "metadata": {
        "id": "sekkbItfDnen"
      }
    },
    {
      "cell_type": "code",
      "source": [
        "def hash(a, b, details):\n",
        "  p, g, h = details\n",
        "\n",
        "  ga = pow(g, a, p)\n",
        "  hb = pow(h, b, p)\n",
        "\n",
        "  result = (ga * hb) % p\n",
        "\n",
        "  return result\n"
      ],
      "metadata": {
        "id": "sfVva4D39O1-"
      },
      "execution_count": 33,
      "outputs": []
    },
    {
      "cell_type": "markdown",
      "source": [
        "## Usage example"
      ],
      "metadata": {
        "id": "LGFEAQP8DzD9"
      }
    },
    {
      "cell_type": "code",
      "source": [
        "# Define p, g, h\n",
        "p = 101\n",
        "g = find_generator(p)\n",
        "h = 31\n",
        "hash_details = (p, g, h)\n",
        "print(f\"Hash details: p= {p}, g={g}, h= {h}\")\n",
        "\n",
        "# Run few examples\n",
        "for i in range(1, 7):\n",
        "  print()\n",
        "  print(f\"Example {i}:\")\n",
        "\n",
        "  # Generate message: (a, b)\n",
        "  a = random.randint(1, p - 1)\n",
        "  b = random.randint(1, p - 1)\n",
        "  print(f\"a= {a}, b={b}\")\n",
        "\n",
        "  # Calculate H(a, b)\n",
        "  H = hash(a, b, hash_details)\n",
        "  print(f\"H(a, b)= {H}\")\n",
        "\n",
        "\n",
        "  p"
      ],
      "metadata": {
        "colab": {
          "base_uri": "https://localhost:8080/"
        },
        "id": "4mroyJ5O8t0r",
        "outputId": "10f2ed34-3071-4aa7-80a8-220239891ca3"
      },
      "execution_count": 34,
      "outputs": [
        {
          "output_type": "stream",
          "name": "stdout",
          "text": [
            "Hash details: p= 101, g=53, h= 31\n",
            "\n",
            "Example 1:\n",
            "a= 74, b=90\n",
            "H(a, b)= 45\n",
            "\n",
            "Example 2:\n",
            "a= 68, b=65\n",
            "H(a, b)= 5\n",
            "\n",
            "Example 3:\n",
            "a= 50, b=70\n",
            "H(a, b)= 17\n",
            "\n",
            "Example 4:\n",
            "a= 42, b=77\n",
            "H(a, b)= 70\n",
            "\n",
            "Example 5:\n",
            "a= 78, b=45\n",
            "H(a, b)= 96\n",
            "\n",
            "Example 6:\n",
            "a= 53, b=62\n",
            "H(a, b)= 40\n"
          ]
        }
      ]
    }
  ]
}