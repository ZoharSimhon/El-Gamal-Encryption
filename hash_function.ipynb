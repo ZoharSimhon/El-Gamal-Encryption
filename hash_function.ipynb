{
  "cells": [
    {
      "cell_type": "markdown",
      "metadata": {
        "id": "JaMhPvHqDEnH"
      },
      "source": [
        "# Cryptographic hash function"
      ]
    },
    {
      "cell_type": "markdown",
      "metadata": {
        "id": "B8t-I3G1DXCW"
      },
      "source": [
        "## Imports"
      ]
    },
    {
      "cell_type": "code",
      "execution_count": 1,
      "metadata": {
        "id": "D59xtqLH8qnK"
      },
      "outputs": [],
      "source": [
        "import random"
      ]
    },
    {
      "cell_type": "markdown",
      "metadata": {
        "id": "YCCioYUiDac8"
      },
      "source": [
        "## Find a generator for the group Zp"
      ]
    },
    {
      "cell_type": "code",
      "execution_count": 2,
      "metadata": {
        "id": "Hhwsm0qO75pz"
      },
      "outputs": [],
      "source": [
        "def is_generator(g, p):\n",
        "  subgroup = set()\n",
        "  for i in range(1, p):\n",
        "    element = pow(g, i, p)\n",
        "    if element in subgroup:\n",
        "      return False\n",
        "    subgroup.add(element)\n",
        "\n",
        "  return len(subgroup) == p - 1"
      ]
    },
    {
      "cell_type": "code",
      "execution_count": 3,
      "metadata": {
        "id": "xoYRe52f8YHn"
      },
      "outputs": [],
      "source": [
        "def find_generator(p, h):\n",
        "  # Select a generator g of Zp*\n",
        "  g = 1\n",
        "  while(not is_generator(g, p)):\n",
        "    g = random.randint(2, p - 1)\n",
        "    if g == h: # g != h\n",
        "      continue\n",
        "\n",
        "  return g"
      ]
    },
    {
      "cell_type": "markdown",
      "metadata": {
        "id": "sekkbItfDnen"
      },
      "source": [
        "## Calculate the hash function: H(a,b) = g^a * h^b"
      ]
    },
    {
      "cell_type": "code",
      "execution_count": 4,
      "metadata": {
        "id": "sfVva4D39O1-"
      },
      "outputs": [],
      "source": [
        "def hash(a, b, details):\n",
        "  p, g, h = details\n",
        "\n",
        "  ga = pow(g, a, p)\n",
        "  hb = pow(h, b, p)\n",
        "\n",
        "  result = (ga * hb) % p\n",
        "\n",
        "  return result\n"
      ]
    },
    {
      "cell_type": "markdown",
      "metadata": {
        "id": "LGFEAQP8DzD9"
      },
      "source": [
        "## Usage example"
      ]
    },
    {
      "cell_type": "code",
      "execution_count": 5,
      "metadata": {
        "colab": {
          "base_uri": "https://localhost:8080/"
        },
        "id": "4mroyJ5O8t0r",
        "outputId": "10f2ed34-3071-4aa7-80a8-220239891ca3"
      },
      "outputs": [
        {
          "name": "stdout",
          "output_type": "stream",
          "text": [
            "Hash details: p= 101, g=48, h= 31\n",
            "\n",
            "Example 1:\n",
            "a= 62, b=63\n",
            "H(a, b)= 49\n",
            "\n",
            "Example 2:\n",
            "a= 93, b=16\n",
            "H(a, b)= 35\n",
            "\n",
            "Example 3:\n",
            "a= 38, b=35\n",
            "H(a, b)= 22\n",
            "\n",
            "Example 4:\n",
            "a= 24, b=34\n",
            "H(a, b)= 54\n",
            "\n",
            "Example 5:\n",
            "a= 95, b=76\n",
            "H(a, b)= 98\n",
            "\n",
            "Example 6:\n",
            "a= 60, b=1\n",
            "H(a, b)= 79\n"
          ]
        }
      ],
      "source": [
        "# Define p, g, h\n",
        "p = 101\n",
        "h = 31\n",
        "g = find_generator(p, h)\n",
        "hash_details = (p, g, h)\n",
        "print(f\"Hash details: p= {p}, g={g}, h= {h}\")\n",
        "\n",
        "# Run few examples\n",
        "for i in range(1, 7):\n",
        "  print()\n",
        "  print(f\"Example {i}:\")\n",
        "\n",
        "  # Generate message: (a, b)\n",
        "  a = random.randint(1, p - 1)\n",
        "  b = random.randint(1, p - 1)\n",
        "  print(f\"a= {a}, b={b}\")\n",
        "\n",
        "  # Calculate H(a, b)\n",
        "  H = hash(a, b, hash_details)\n",
        "  print(f\"H(a, b)= {H}\")\n",
        "\n",
        "\n",
        "  p"
      ]
    }
  ],
  "metadata": {
    "colab": {
      "provenance": []
    },
    "kernelspec": {
      "display_name": "Python 3",
      "name": "python3"
    },
    "language_info": {
      "codemirror_mode": {
        "name": "ipython",
        "version": 3
      },
      "file_extension": ".py",
      "mimetype": "text/x-python",
      "name": "python",
      "nbconvert_exporter": "python",
      "pygments_lexer": "ipython3",
      "version": "3.11.0"
    }
  },
  "nbformat": 4,
  "nbformat_minor": 0
}
